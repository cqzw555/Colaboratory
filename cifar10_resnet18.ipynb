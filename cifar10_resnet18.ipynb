{
  "nbformat": 4,
  "nbformat_minor": 0,
  "metadata": {
    "accelerator": "GPU",
    "colab": {
      "name": "cifar10_resnet18.ipynb",
      "provenance": [],
      "collapsed_sections": [],
      "authorship_tag": "ABX9TyPSGMRgwWBrOUcieUuYPJ1S",
      "include_colab_link": true
    },
    "kernelspec": {
      "display_name": "Python 3",
      "name": "python3"
    },
    "widgets": {
      "application/vnd.jupyter.widget-state+json": {
        "85b677669d194be3804d247557f05855": {
          "model_module": "@jupyter-widgets/controls",
          "model_name": "HBoxModel",
          "state": {
            "_view_name": "HBoxView",
            "_dom_classes": [],
            "_model_name": "HBoxModel",
            "_view_module": "@jupyter-widgets/controls",
            "_model_module_version": "1.5.0",
            "_view_count": null,
            "_view_module_version": "1.5.0",
            "box_style": "",
            "layout": "IPY_MODEL_9bba04c0477c4d029ac95cbebc7d16ab",
            "_model_module": "@jupyter-widgets/controls",
            "children": [
              "IPY_MODEL_af80b9a409414d2da5c99aa6aa8f4b4f",
              "IPY_MODEL_71864b6f981b4021ad967c94413db15f"
            ]
          }
        },
        "9bba04c0477c4d029ac95cbebc7d16ab": {
          "model_module": "@jupyter-widgets/base",
          "model_name": "LayoutModel",
          "state": {
            "_view_name": "LayoutView",
            "grid_template_rows": null,
            "right": null,
            "justify_content": null,
            "_view_module": "@jupyter-widgets/base",
            "overflow": null,
            "_model_module_version": "1.2.0",
            "_view_count": null,
            "flex_flow": null,
            "width": null,
            "min_width": null,
            "border": null,
            "align_items": null,
            "bottom": null,
            "_model_module": "@jupyter-widgets/base",
            "top": null,
            "grid_column": null,
            "overflow_y": null,
            "overflow_x": null,
            "grid_auto_flow": null,
            "grid_area": null,
            "grid_template_columns": null,
            "flex": null,
            "_model_name": "LayoutModel",
            "justify_items": null,
            "grid_row": null,
            "max_height": null,
            "align_content": null,
            "visibility": null,
            "align_self": null,
            "height": null,
            "min_height": null,
            "padding": null,
            "grid_auto_rows": null,
            "grid_gap": null,
            "max_width": null,
            "order": null,
            "_view_module_version": "1.2.0",
            "grid_template_areas": null,
            "object_position": null,
            "object_fit": null,
            "grid_auto_columns": null,
            "margin": null,
            "display": null,
            "left": null
          }
        },
        "af80b9a409414d2da5c99aa6aa8f4b4f": {
          "model_module": "@jupyter-widgets/controls",
          "model_name": "FloatProgressModel",
          "state": {
            "_view_name": "ProgressView",
            "style": "IPY_MODEL_342092f3e86a454fb1764bf7f677beba",
            "_dom_classes": [],
            "description": "100%",
            "_model_name": "FloatProgressModel",
            "bar_style": "success",
            "max": 46827520,
            "_view_module": "@jupyter-widgets/controls",
            "_model_module_version": "1.5.0",
            "value": 46827520,
            "_view_count": null,
            "_view_module_version": "1.5.0",
            "orientation": "horizontal",
            "min": 0,
            "description_tooltip": null,
            "_model_module": "@jupyter-widgets/controls",
            "layout": "IPY_MODEL_9974936695f44825b944c7511f20a62b"
          }
        },
        "71864b6f981b4021ad967c94413db15f": {
          "model_module": "@jupyter-widgets/controls",
          "model_name": "HTMLModel",
          "state": {
            "_view_name": "HTMLView",
            "style": "IPY_MODEL_418957015d4f451bb27fc41a80fb4b5a",
            "_dom_classes": [],
            "description": "",
            "_model_name": "HTMLModel",
            "placeholder": "​",
            "_view_module": "@jupyter-widgets/controls",
            "_model_module_version": "1.5.0",
            "value": " 44.7M/44.7M [00:21&lt;00:00, 2.14MB/s]",
            "_view_count": null,
            "_view_module_version": "1.5.0",
            "description_tooltip": null,
            "_model_module": "@jupyter-widgets/controls",
            "layout": "IPY_MODEL_a0678b6ec36049ef87c941d3af2a911f"
          }
        },
        "342092f3e86a454fb1764bf7f677beba": {
          "model_module": "@jupyter-widgets/controls",
          "model_name": "ProgressStyleModel",
          "state": {
            "_view_name": "StyleView",
            "_model_name": "ProgressStyleModel",
            "description_width": "initial",
            "_view_module": "@jupyter-widgets/base",
            "_model_module_version": "1.5.0",
            "_view_count": null,
            "_view_module_version": "1.2.0",
            "bar_color": null,
            "_model_module": "@jupyter-widgets/controls"
          }
        },
        "9974936695f44825b944c7511f20a62b": {
          "model_module": "@jupyter-widgets/base",
          "model_name": "LayoutModel",
          "state": {
            "_view_name": "LayoutView",
            "grid_template_rows": null,
            "right": null,
            "justify_content": null,
            "_view_module": "@jupyter-widgets/base",
            "overflow": null,
            "_model_module_version": "1.2.0",
            "_view_count": null,
            "flex_flow": null,
            "width": null,
            "min_width": null,
            "border": null,
            "align_items": null,
            "bottom": null,
            "_model_module": "@jupyter-widgets/base",
            "top": null,
            "grid_column": null,
            "overflow_y": null,
            "overflow_x": null,
            "grid_auto_flow": null,
            "grid_area": null,
            "grid_template_columns": null,
            "flex": null,
            "_model_name": "LayoutModel",
            "justify_items": null,
            "grid_row": null,
            "max_height": null,
            "align_content": null,
            "visibility": null,
            "align_self": null,
            "height": null,
            "min_height": null,
            "padding": null,
            "grid_auto_rows": null,
            "grid_gap": null,
            "max_width": null,
            "order": null,
            "_view_module_version": "1.2.0",
            "grid_template_areas": null,
            "object_position": null,
            "object_fit": null,
            "grid_auto_columns": null,
            "margin": null,
            "display": null,
            "left": null
          }
        },
        "418957015d4f451bb27fc41a80fb4b5a": {
          "model_module": "@jupyter-widgets/controls",
          "model_name": "DescriptionStyleModel",
          "state": {
            "_view_name": "StyleView",
            "_model_name": "DescriptionStyleModel",
            "description_width": "",
            "_view_module": "@jupyter-widgets/base",
            "_model_module_version": "1.5.0",
            "_view_count": null,
            "_view_module_version": "1.2.0",
            "_model_module": "@jupyter-widgets/controls"
          }
        },
        "a0678b6ec36049ef87c941d3af2a911f": {
          "model_module": "@jupyter-widgets/base",
          "model_name": "LayoutModel",
          "state": {
            "_view_name": "LayoutView",
            "grid_template_rows": null,
            "right": null,
            "justify_content": null,
            "_view_module": "@jupyter-widgets/base",
            "overflow": null,
            "_model_module_version": "1.2.0",
            "_view_count": null,
            "flex_flow": null,
            "width": null,
            "min_width": null,
            "border": null,
            "align_items": null,
            "bottom": null,
            "_model_module": "@jupyter-widgets/base",
            "top": null,
            "grid_column": null,
            "overflow_y": null,
            "overflow_x": null,
            "grid_auto_flow": null,
            "grid_area": null,
            "grid_template_columns": null,
            "flex": null,
            "_model_name": "LayoutModel",
            "justify_items": null,
            "grid_row": null,
            "max_height": null,
            "align_content": null,
            "visibility": null,
            "align_self": null,
            "height": null,
            "min_height": null,
            "padding": null,
            "grid_auto_rows": null,
            "grid_gap": null,
            "max_width": null,
            "order": null,
            "_view_module_version": "1.2.0",
            "grid_template_areas": null,
            "object_position": null,
            "object_fit": null,
            "grid_auto_columns": null,
            "margin": null,
            "display": null,
            "left": null
          }
        }
      }
    }
  },
  "cells": [
    {
      "cell_type": "markdown",
      "metadata": {
        "id": "view-in-github",
        "colab_type": "text"
      },
      "source": [
        "<a href=\"https://colab.research.google.com/github/cqzw555/Colaboratory/blob/main/cifar10_resnet18.ipynb\" target=\"_parent\"><img src=\"https://colab.research.google.com/assets/colab-badge.svg\" alt=\"Open In Colab\"/></a>"
      ]
    },
    {
      "cell_type": "code",
      "metadata": {
        "colab": {
          "base_uri": "https://localhost:8080/",
          "height": 1000,
          "referenced_widgets": [
            "85b677669d194be3804d247557f05855",
            "9bba04c0477c4d029ac95cbebc7d16ab",
            "af80b9a409414d2da5c99aa6aa8f4b4f",
            "71864b6f981b4021ad967c94413db15f",
            "342092f3e86a454fb1764bf7f677beba",
            "9974936695f44825b944c7511f20a62b",
            "418957015d4f451bb27fc41a80fb4b5a",
            "a0678b6ec36049ef87c941d3af2a911f"
          ]
        },
        "id": "mX11132b9s3W",
        "outputId": "f7a0aaca-e257-4baf-f5bc-dc0157d2a8f9"
      },
      "source": [
        "# 使用预训练模型\r\n",
        "import torch\r\n",
        "from torch import nn\r\n",
        "import torchvision\r\n",
        "import torchvision.transforms as transforms\r\n",
        "import torch.optim as optim\r\n",
        "import time\r\n",
        "import os\r\n",
        "from torchsummary import summary\r\n",
        "from torchvision.models import resnet18\r\n",
        "\r\n",
        "# 获取数据\r\n",
        "transform = transforms.Compose(\r\n",
        "    [transforms.RandomHorizontalFlip(),\r\n",
        "     transforms.RandomGrayscale(),\r\n",
        "     transforms.ToTensor(),\r\n",
        "     transforms.Normalize((0.5, 0.5, 0.5), (0.5, 0.5, 0.5))]\r\n",
        ")\r\n",
        "transform1 = transforms.Compose(\r\n",
        "    [transforms.ToTensor(),\r\n",
        "     transforms.Normalize((0.5, 0.5, 0.5), (0.5, 0.5, 0.5))]\r\n",
        ")\r\n",
        "\r\n",
        "batch_size = 512\r\n",
        "trainset = torchvision.datasets.CIFAR10(root='./data', train=True,\r\n",
        "                                        download=True, transform=transform)\r\n",
        "trainloader = torch.utils.data.DataLoader(trainset, batch_size=batch_size,\r\n",
        "                                          shuffle=True, num_workers=0)\r\n",
        "testset = torchvision.datasets.CIFAR10(root='./data', train=False,\r\n",
        "                                       download=True, transform=transform1)\r\n",
        "testloader = torch.utils.data.DataLoader(testset, batch_size=batch_size,\r\n",
        "                                         shuffle=False, num_workers=0)\r\n",
        "\r\n",
        "model = resnet18(pretrained=True)\r\n",
        "device = torch.device(\"cuda:0\" if torch.cuda.is_available() else \"cpu\")\r\n",
        "model.fc = nn.Linear(512, 10)\r\n",
        "model = model.to(device)\r\n",
        "model.to(device)\r\n",
        "summary(model, (3, 32, 32))"
      ],
      "execution_count": 23,
      "outputs": [
        {
          "output_type": "stream",
          "text": [
            "Files already downloaded and verified\n",
            "Files already downloaded and verified\n"
          ],
          "name": "stdout"
        },
        {
          "output_type": "stream",
          "text": [
            "Downloading: \"https://download.pytorch.org/models/resnet18-5c106cde.pth\" to /root/.cache/torch/hub/checkpoints/resnet18-5c106cde.pth\n"
          ],
          "name": "stderr"
        },
        {
          "output_type": "display_data",
          "data": {
            "application/vnd.jupyter.widget-view+json": {
              "model_id": "85b677669d194be3804d247557f05855",
              "version_minor": 0,
              "version_major": 2
            },
            "text/plain": [
              "HBox(children=(FloatProgress(value=0.0, max=46827520.0), HTML(value='')))"
            ]
          },
          "metadata": {
            "tags": []
          }
        },
        {
          "output_type": "stream",
          "text": [
            "\n",
            "----------------------------------------------------------------\n",
            "        Layer (type)               Output Shape         Param #\n",
            "================================================================\n",
            "            Conv2d-1           [-1, 64, 16, 16]           9,408\n",
            "       BatchNorm2d-2           [-1, 64, 16, 16]             128\n",
            "              ReLU-3           [-1, 64, 16, 16]               0\n",
            "         MaxPool2d-4             [-1, 64, 8, 8]               0\n",
            "            Conv2d-5             [-1, 64, 8, 8]          36,864\n",
            "       BatchNorm2d-6             [-1, 64, 8, 8]             128\n",
            "              ReLU-7             [-1, 64, 8, 8]               0\n",
            "            Conv2d-8             [-1, 64, 8, 8]          36,864\n",
            "       BatchNorm2d-9             [-1, 64, 8, 8]             128\n",
            "             ReLU-10             [-1, 64, 8, 8]               0\n",
            "       BasicBlock-11             [-1, 64, 8, 8]               0\n",
            "           Conv2d-12             [-1, 64, 8, 8]          36,864\n",
            "      BatchNorm2d-13             [-1, 64, 8, 8]             128\n",
            "             ReLU-14             [-1, 64, 8, 8]               0\n",
            "           Conv2d-15             [-1, 64, 8, 8]          36,864\n",
            "      BatchNorm2d-16             [-1, 64, 8, 8]             128\n",
            "             ReLU-17             [-1, 64, 8, 8]               0\n",
            "       BasicBlock-18             [-1, 64, 8, 8]               0\n",
            "           Conv2d-19            [-1, 128, 4, 4]          73,728\n",
            "      BatchNorm2d-20            [-1, 128, 4, 4]             256\n",
            "             ReLU-21            [-1, 128, 4, 4]               0\n",
            "           Conv2d-22            [-1, 128, 4, 4]         147,456\n",
            "      BatchNorm2d-23            [-1, 128, 4, 4]             256\n",
            "           Conv2d-24            [-1, 128, 4, 4]           8,192\n",
            "      BatchNorm2d-25            [-1, 128, 4, 4]             256\n",
            "             ReLU-26            [-1, 128, 4, 4]               0\n",
            "       BasicBlock-27            [-1, 128, 4, 4]               0\n",
            "           Conv2d-28            [-1, 128, 4, 4]         147,456\n",
            "      BatchNorm2d-29            [-1, 128, 4, 4]             256\n",
            "             ReLU-30            [-1, 128, 4, 4]               0\n",
            "           Conv2d-31            [-1, 128, 4, 4]         147,456\n",
            "      BatchNorm2d-32            [-1, 128, 4, 4]             256\n",
            "             ReLU-33            [-1, 128, 4, 4]               0\n",
            "       BasicBlock-34            [-1, 128, 4, 4]               0\n",
            "           Conv2d-35            [-1, 256, 2, 2]         294,912\n",
            "      BatchNorm2d-36            [-1, 256, 2, 2]             512\n",
            "             ReLU-37            [-1, 256, 2, 2]               0\n",
            "           Conv2d-38            [-1, 256, 2, 2]         589,824\n",
            "      BatchNorm2d-39            [-1, 256, 2, 2]             512\n",
            "           Conv2d-40            [-1, 256, 2, 2]          32,768\n",
            "      BatchNorm2d-41            [-1, 256, 2, 2]             512\n",
            "             ReLU-42            [-1, 256, 2, 2]               0\n",
            "       BasicBlock-43            [-1, 256, 2, 2]               0\n",
            "           Conv2d-44            [-1, 256, 2, 2]         589,824\n",
            "      BatchNorm2d-45            [-1, 256, 2, 2]             512\n",
            "             ReLU-46            [-1, 256, 2, 2]               0\n",
            "           Conv2d-47            [-1, 256, 2, 2]         589,824\n",
            "      BatchNorm2d-48            [-1, 256, 2, 2]             512\n",
            "             ReLU-49            [-1, 256, 2, 2]               0\n",
            "       BasicBlock-50            [-1, 256, 2, 2]               0\n",
            "           Conv2d-51            [-1, 512, 1, 1]       1,179,648\n",
            "      BatchNorm2d-52            [-1, 512, 1, 1]           1,024\n",
            "             ReLU-53            [-1, 512, 1, 1]               0\n",
            "           Conv2d-54            [-1, 512, 1, 1]       2,359,296\n",
            "      BatchNorm2d-55            [-1, 512, 1, 1]           1,024\n",
            "           Conv2d-56            [-1, 512, 1, 1]         131,072\n",
            "      BatchNorm2d-57            [-1, 512, 1, 1]           1,024\n",
            "             ReLU-58            [-1, 512, 1, 1]               0\n",
            "       BasicBlock-59            [-1, 512, 1, 1]               0\n",
            "           Conv2d-60            [-1, 512, 1, 1]       2,359,296\n",
            "      BatchNorm2d-61            [-1, 512, 1, 1]           1,024\n",
            "             ReLU-62            [-1, 512, 1, 1]               0\n",
            "           Conv2d-63            [-1, 512, 1, 1]       2,359,296\n",
            "      BatchNorm2d-64            [-1, 512, 1, 1]           1,024\n",
            "             ReLU-65            [-1, 512, 1, 1]               0\n",
            "       BasicBlock-66            [-1, 512, 1, 1]               0\n",
            "AdaptiveAvgPool2d-67            [-1, 512, 1, 1]               0\n",
            "           Linear-68                   [-1, 10]           5,130\n",
            "================================================================\n",
            "Total params: 11,181,642\n",
            "Trainable params: 11,181,642\n",
            "Non-trainable params: 0\n",
            "----------------------------------------------------------------\n",
            "Input size (MB): 0.01\n",
            "Forward/backward pass size (MB): 1.29\n",
            "Params size (MB): 42.65\n",
            "Estimated Total Size (MB): 43.95\n",
            "----------------------------------------------------------------\n"
          ],
          "name": "stdout"
        }
      ]
    },
    {
      "cell_type": "code",
      "metadata": {
        "colab": {
          "base_uri": "https://localhost:8080/"
        },
        "id": "hkkEmK2o-bQK",
        "outputId": "c2a21321-ce1f-40a6-d405-9dc2c0065c59"
      },
      "source": [
        "epoch_num = 30\r\n",
        "# 分类问题一般用交叉熵\r\n",
        "criterion = nn.CrossEntropyLoss()\r\n",
        "# 使用随机梯度下降，L2正则化\r\n",
        "optimizer = optim.SGD(model.parameters(), lr=0.01, momentum=0.9, weight_decay=5e-4)\r\n",
        "timestr = time.strftime(\"%Y_%m_%d_%H_%M_%S\", time.localtime())\r\n",
        "\r\n",
        "for epoch in range(0, epoch_num):\r\n",
        "  # 训练\r\n",
        "  loss_sum = 0.0\r\n",
        "  correct = 0.0\r\n",
        "  total = 0.0\r\n",
        "  length = len(trainloader)\r\n",
        "  for index, (data, label) in enumerate(trainloader):\r\n",
        "    data, label = data.to(device), label.to(device)\r\n",
        "    optimizer.zero_grad()\r\n",
        "    # forward and backward\r\n",
        "    output = model(data)\r\n",
        "    loss = criterion(output, label)\r\n",
        "    loss.backward()\r\n",
        "    optimizer.step()\r\n",
        "    # 打印输出信息\r\n",
        "    loss_sum += loss.item()\r\n",
        "    _, pred = torch.max(output.data, 1)\r\n",
        "    total += label.size(0)\r\n",
        "    correct += pred.eq(label.data).sum()\r\n",
        "    if index % 50 == 0:\r\n",
        "        log = \"[epoch :{:d}] {}/{} Loss: {:.1f} Acc:{:.1f}\".format(\r\n",
        "            epoch, index * len(data), len(trainloader.dataset), loss_sum / (index + 1),\r\n",
        "                    100.0 * correct / total)\r\n",
        "        # 打印log\r\n",
        "        print(log)\r\n",
        "\r\n",
        "  # 测试\r\n",
        "  with torch.no_grad():\r\n",
        "    correct = 0\r\n",
        "    total = 0\r\n",
        "    for data, label in testloader:\r\n",
        "        model.eval()\r\n",
        "        data, label = data.to(device), label.to(device)\r\n",
        "        output = model(data)\r\n",
        "        _, pred = torch.max(output.data, 1)\r\n",
        "        total += label.size(0)\r\n",
        "        correct += (pred == label).sum()\r\n",
        "    acc = 100.0 * correct / total\r\n",
        "    # torch.save(model.state_dict(), './model/{}/{}/{}.pth'.format(model_name, timestr, epoch))\r\n",
        "    log = '[Test {}] Acc:{:.1f}'.format(epoch, acc)\r\n",
        "    print(log)"
      ],
      "execution_count": null,
      "outputs": [
        {
          "output_type": "stream",
          "text": [
            "[epoch :0] 0/50000 Loss: 2.7 Acc:9.4\n",
            "[epoch :0] 25600/50000 Loss: 1.3 Acc:53.6\n",
            "[epoch :1] 0/50000 Loss: 0.6 Acc:78.7\n",
            "[epoch :1] 25600/50000 Loss: 0.8 Acc:72.6\n",
            "[Test 1] Acc:77.3\n",
            "[epoch :2] 0/50000 Loss: 0.6 Acc:77.9\n",
            "[epoch :2] 25600/50000 Loss: 0.6 Acc:78.4\n",
            "[Test 2] Acc:78.1\n",
            "[epoch :3] 0/50000 Loss: 0.6 Acc:79.5\n",
            "[epoch :3] 25600/50000 Loss: 0.5 Acc:81.1\n",
            "[Test 3] Acc:79.9\n",
            "[epoch :4] 0/50000 Loss: 0.4 Acc:85.2\n",
            "[epoch :4] 25600/50000 Loss: 0.5 Acc:83.5\n",
            "[Test 4] Acc:80.7\n",
            "[epoch :5] 0/50000 Loss: 0.5 Acc:83.6\n",
            "[epoch :5] 25600/50000 Loss: 0.4 Acc:84.5\n",
            "[Test 5] Acc:80.6\n",
            "[epoch :6] 0/50000 Loss: 0.4 Acc:85.4\n",
            "[epoch :6] 25600/50000 Loss: 0.4 Acc:86.7\n",
            "[Test 6] Acc:82.6\n",
            "[epoch :7] 0/50000 Loss: 0.3 Acc:89.8\n",
            "[epoch :7] 25600/50000 Loss: 0.3 Acc:88.1\n",
            "[Test 7] Acc:82.1\n",
            "[epoch :8] 0/50000 Loss: 0.3 Acc:89.6\n"
          ],
          "name": "stdout"
        }
      ]
    },
    {
      "cell_type": "code",
      "metadata": {
        "id": "m0x8UkASEUv-"
      },
      "source": [
        "torch.save(model.state_dict(),'cifar10_resNet18_colab.pth')"
      ],
      "execution_count": null,
      "outputs": []
    },
    {
      "cell_type": "code",
      "metadata": {
        "colab": {
          "base_uri": "https://localhost:8080/"
        },
        "id": "SrXb6yg8ExZ1",
        "outputId": "b2a5e262-49f6-4666-9519-0adba5c4883e"
      },
      "source": [
        "! scp cifar10_resNet18_colab.pth ubuntu@121.4.124.199:~/"
      ],
      "execution_count": null,
      "outputs": [
        {
          "output_type": "stream",
          "text": [
            "Host key verification failed.\r\n",
            "lost connection\n"
          ],
          "name": "stdout"
        }
      ]
    },
    {
      "cell_type": "code",
      "metadata": {
        "colab": {
          "background_save": true
        },
        "id": "VQRMYG_2FlPw"
      },
      "source": [
        "!sshpass -p zW112559 scp -P 22 cifar10_resNet18_colab.pth ubuntu@121.4.124.199:/home/ubuntu/cifar10_resNet18_colab.pth"
      ],
      "execution_count": null,
      "outputs": []
    },
    {
      "cell_type": "markdown",
      "metadata": {
        "id": "f5JGioURCJIo"
      },
      "source": [
        ""
      ]
    }
  ]
}